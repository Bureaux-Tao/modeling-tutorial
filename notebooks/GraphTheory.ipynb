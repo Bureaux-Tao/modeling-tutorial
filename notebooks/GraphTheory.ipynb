{
 "cells": [
  {
   "cell_type": "markdown",
   "metadata": {
    "collapsed": true,
    "pycharm": {
     "name": "#%% md\n"
    }
   },
   "source": [
    "# 图论\n",
    "## 最短路径\n",
    "### Dijkstra\n",
    "#### 有向图"
   ]
  },
  {
   "cell_type": "code",
   "execution_count": 8,
   "outputs": [],
   "source": [
    "from collections import defaultdict\n",
    "from heapq import *\n",
    "import numpy as np\n",
    "import pandas as pd\n",
    "import networkx as nx\n",
    "import pylab"
   ],
   "metadata": {
    "collapsed": false,
    "pycharm": {
     "name": "#%%\n"
    }
   }
  },
  {
   "cell_type": "code",
   "execution_count": 9,
   "outputs": [],
   "source": [
    "Inf = float('inf')\n",
    "Adjacent = [[0, 1, 12, Inf, Inf, Inf],\n",
    "            [Inf, 0, 9, 3, Inf, Inf],\n",
    "            [Inf, Inf, 0, Inf, 5, Inf],\n",
    "            [Inf, Inf, 4, 0, 13, 15],\n",
    "            [Inf, Inf, Inf, Inf, 0, 4],\n",
    "            [Inf, Inf, Inf, Inf, Inf, 0]]\n",
    "Src, Dst, N = 0, 5, 6\n",
    "\n",
    "\n",
    "def dijstra(adj, src, dst, n):\n",
    "    dist = [Inf] * n\n",
    "    dist[src] = 0\n",
    "    book = [0] * n  # 记录已经确定的顶点\n",
    "    # 每次找到起点到该点的最短途径\n",
    "    u = src\n",
    "    for _ in range(n - 1):  # 找n-1次\n",
    "        book[u] = 1  # 已经确定\n",
    "        # 更新距离并记录最小距离的结点\n",
    "        next_u, minVal = None, float('inf')\n",
    "        for v in range(n):  # w\n",
    "            w = adj[u][v]\n",
    "            if w == Inf:  # 结点u和v之间没有边\n",
    "                continue\n",
    "            if not book[v] and dist[u] + w < dist[v]:  # 判断结点是否已经确定了，\n",
    "                dist[v] = dist[u] + w\n",
    "                if dist[v] < minVal:\n",
    "                    next_u, minVal = v, dist[v]\n",
    "        # 开始下一轮遍历\n",
    "        u = next_u\n",
    "    print(dist)"
   ],
   "metadata": {
    "collapsed": false,
    "pycharm": {
     "name": "#%%\n"
    }
   }
  },
  {
   "cell_type": "code",
   "execution_count": 10,
   "outputs": [
    {
     "name": "stdout",
     "output_type": "stream",
     "text": [
      "[0, 1, 8, 4, 13, 17]\n"
     ]
    }
   ],
   "source": [
    "dijstra(Adjacent, 0, 5, 6)"
   ],
   "metadata": {
    "collapsed": false,
    "pycharm": {
     "name": "#%%\n"
    }
   }
  },
  {
   "cell_type": "markdown",
   "source": [
    "#### 无向图和有向图的混合图\n",
    "\n",
    "<img src=\"../images/iShot2021-08-18 10.29.20.png\"/>\n",
    "<img src=\"../images/iShot2021-08-18 10.32.30.png\"/>\n",
    "\n",
    "[原网页](https://blog.csdn.net/qq_39798423/article/details/89294781?spm=1001.2014.3001.5501)"
   ],
   "metadata": {
    "collapsed": false
   }
  },
  {
   "cell_type": "code",
   "execution_count": 11,
   "outputs": [],
   "source": [
    "inf = float('inf')\n",
    "mtx_graph = [[0, 1, inf, 3, inf, inf, inf, inf, inf],\n",
    "             [1, 0, 5, inf, 2, inf, inf, inf, inf],\n",
    "             [inf, inf, 0, 1, inf, 6, inf, inf, inf],\n",
    "             [inf, inf, inf, 0, inf, 7, inf, 9, inf],\n",
    "             [inf, 2, 3, inf, 0, 4, 2, inf, 8],\n",
    "             [inf, inf, 6, 7, inf, 0, inf, 2, inf],\n",
    "             [inf, inf, inf, inf, inf, 1, 0, inf, 3],\n",
    "             [inf, inf, inf, inf, inf, inf, 1, 0, 2],\n",
    "             [inf, inf, inf, inf, 8, inf, 3, 2, 0]]"
   ],
   "metadata": {
    "collapsed": false,
    "pycharm": {
     "name": "#%%\n"
    }
   }
  },
  {
   "cell_type": "code",
   "execution_count": 12,
   "outputs": [
    {
     "name": "stdout",
     "output_type": "stream",
     "text": [
      "最短距离为：8\n",
      "前进路径为：[1, 2, 5, 7, 9]\n"
     ]
    }
   ],
   "source": [
    "m_n = len(mtx_graph)  #带权连接矩阵的阶数\n",
    "edges = []  #保存连通的两个点之间的距离(点A、点B、距离)\n",
    "for i in range(m_n):\n",
    "    for j in range(m_n):\n",
    "        if i != j and mtx_graph[i][j] != inf:\n",
    "            edges.append((i, j, mtx_graph[i][j]))\n",
    "\n",
    "\n",
    "def Dijkstra(edges, from_node, to_node):\n",
    "    go_path = []\n",
    "    to_node = to_node - 1\n",
    "    g = defaultdict(list)\n",
    "    for l, r, c in edges:\n",
    "        g[l].append((c, r))\n",
    "    q, seen = [(0, from_node - 1, ())], set()\n",
    "    while q:\n",
    "        (cost, v1, path) = heappop(q)  #堆弹出当前路径最小成本\n",
    "        if v1 not in seen:\n",
    "            seen.add(v1)\n",
    "            path = (v1, path)\n",
    "            if v1 == to_node:\n",
    "                break\n",
    "            for c, v2 in g.get(v1, ()):\n",
    "                if v2 not in seen:\n",
    "                    heappush(q, (cost + c, v2, path))\n",
    "    if v1 != to_node:  #无法到达\n",
    "        return inf, []\n",
    "    if len(path) > 0:\n",
    "        left = path[0]\n",
    "        go_path.append(left)\n",
    "        right = path[1]\n",
    "        while len(right) > 0:\n",
    "            left = right[0]\n",
    "            go_path.append(left)\n",
    "            right = right[1]\n",
    "        go_path.reverse()  #逆序变换\n",
    "        for i in range(len(go_path)):  #标号加1\n",
    "            go_path[i] = go_path[i] + 1\n",
    "    return cost, go_path\n",
    "\n",
    "\n",
    "leght, path = Dijkstra(edges, 1, 9)\n",
    "print('最短距离为：' + str(leght))\n",
    "print('前进路径为：' + str(path))"
   ],
   "metadata": {
    "collapsed": false,
    "pycharm": {
     "name": "#%%\n"
    }
   }
  },
  {
   "cell_type": "markdown",
   "source": [
    "### Floyd\n",
    "![](../images/iShot2021-08-18 14.11.01.png)"
   ],
   "metadata": {
    "collapsed": false
   }
  },
  {
   "cell_type": "code",
   "execution_count": 13,
   "outputs": [
    {
     "name": "stdout",
     "output_type": "stream",
     "text": [
      "距离 = \n",
      "[[ 0.  1.  6.  3.  3.  6.  5.  8.  8.]\n",
      " [ 1.  0.  5.  4.  2.  5.  4.  7.  7.]\n",
      " [21. 20.  0.  1. 18.  6.  9.  8. 10.]\n",
      " [22. 21. 13.  0. 19.  7. 10.  9. 11.]\n",
      " [ 3.  2.  3.  4.  0.  3.  2.  5.  5.]\n",
      " [15. 14.  6.  7. 12.  0.  3.  2.  4.]\n",
      " [14. 13.  7.  8. 11.  1.  0.  3.  3.]\n",
      " [13. 12.  8.  9. 10.  2.  1.  0.  2.]\n",
      " [11. 10. 10. 11.  8.  4.  3.  2.  0.]]\n",
      "路径 = \n",
      "[[1. 2. 2. 4. 2. 2. 2. 2. 2.]\n",
      " [1. 2. 3. 1. 5. 5. 5. 5. 5.]\n",
      " [6. 6. 3. 4. 6. 6. 6. 6. 6.]\n",
      " [8. 8. 6. 4. 8. 6. 8. 8. 8.]\n",
      " [2. 2. 3. 3. 5. 7. 7. 7. 7.]\n",
      " [8. 8. 3. 4. 8. 6. 8. 8. 8.]\n",
      " [9. 9. 6. 6. 9. 6. 7. 6. 9.]\n",
      " [9. 9. 7. 7. 9. 7. 7. 8. 9.]\n",
      " [5. 5. 7. 7. 5. 7. 7. 8. 9.]]\n"
     ]
    }
   ],
   "source": [
    "def Floyd(graph):\n",
    "    N = len(graph)\n",
    "    A = np.array(graph)\n",
    "    path = np.zeros((N, N))\n",
    "\n",
    "    for i in range(0, N):\n",
    "        for j in range(0, N):\n",
    "            if A[i][j] != inf:\n",
    "                path[i][j] = j\n",
    "\n",
    "    for k in range(0, N):\n",
    "        for i in range(0, N):\n",
    "            for j in range(0, N):\n",
    "                if A[i][k] + A[k][j] < A[i][j]:\n",
    "                    A[i][j] = A[i][k] + A[k][j]\n",
    "                    path[i][j] = path[i][k]\n",
    "\n",
    "    for i in range(0, N):\n",
    "        for j in range(0, N):\n",
    "            path[i][j] = path[i][j] + 1\n",
    "\n",
    "    print('距离 = ')\n",
    "    print(A)\n",
    "    print('路径 = ')\n",
    "    print(path)\n",
    "\n",
    "\n",
    "Floyd(mtx_graph)"
   ],
   "metadata": {
    "collapsed": false,
    "pycharm": {
     "name": "#%%\n"
    }
   }
  },
  {
   "cell_type": "markdown",
   "source": [
    "- 从①到⑨的距离为8（距离矩阵 第一行第九列数值）\n",
    "- 路径为[1-2-5-7-9]（看路径矩 阵从①到⑨看第一行第九列的 数值为2，这是中间位置②，再 转到第二行第九列看数值为5， 得到第二个中间位置⑤，再转 到第五行第九列，一直找到⑨， 就能得到路径为【1 - 2 - 5 - 7 - 9】）"
   ],
   "metadata": {
    "collapsed": false
   }
  },
  {
   "cell_type": "markdown",
   "source": [
    "## 航线问题\n",
    "数据集来自航空业，有一些关于航线的基本信息。有某段旅程的起 始点和目的地。还有一些列表示每段旅程的到达和起飞时间。这个 数据集非常适合作为图进行分析。想象一下通过航线（边）连接的 几个城市（节点）。如果你是航空公司，你可以问如下几个问题：\n",
    "\n",
    "- 从A到B的最短途径是什么？分别从距离和时间角度考虑。\n",
    "- 有没有办法从C到D？\n",
    "- 哪些机场的交通最繁忙？\n",
    "- 哪个机场位于大多数其他机场“之间”？这样它就可以变成 当地的一个中转站。"
   ],
   "metadata": {
    "collapsed": false,
    "pycharm": {
     "name": "#%% md\n"
    }
   }
  },
  {
   "cell_type": "code",
   "execution_count": 14,
   "outputs": [
    {
     "data": {
      "text/plain": "(100, 19)"
     },
     "execution_count": 14,
     "metadata": {},
     "output_type": "execute_result"
    }
   ],
   "source": [
    "data = pd.read_csv('../data/flights.csv', nrows=100)\n",
    "data.shape"
   ],
   "metadata": {
    "collapsed": false,
    "pycharm": {
     "name": "#%%\n"
    }
   }
  },
  {
   "cell_type": "code",
   "execution_count": 15,
   "outputs": [
    {
     "name": "stderr",
     "output_type": "stream",
     "text": [
      "/Users/Bureaux/miniconda3/envs/Modeling-base/lib/python3.7/site-packages/ipykernel_launcher.py:3: FutureWarning: The default value of regex will change from True to False in a future version.\n",
      "  This is separate from the ipykernel package so we can avoid doing imports until\n",
      "/Users/Bureaux/miniconda3/envs/Modeling-base/lib/python3.7/site-packages/ipykernel_launcher.py:6: FutureWarning: The default value of regex will change from True to False in a future version.\n",
      "  \n",
      "/Users/Bureaux/miniconda3/envs/Modeling-base/lib/python3.7/site-packages/ipykernel_launcher.py:10: FutureWarning: The default value of regex will change from True to False in a future version.\n",
      "  # Remove the CWD from sys.path while we load stuff.\n",
      "/Users/Bureaux/miniconda3/envs/Modeling-base/lib/python3.7/site-packages/ipykernel_launcher.py:14: FutureWarning: The default value of regex will change from True to False in a future version.\n",
      "  \n"
     ]
    }
   ],
   "source": [
    "#将sched_dep_time转换为'std'—预定的出发时间\n",
    "data['std'] = data.sched_dep_time.astype(str).str.replace('(\\d{2}$)', '') + ':' + data.sched_dep_time.astype(\n",
    "    str).str.extract('(\\d{2}$)', expand=False) + ':00'\n",
    "#将sched_arr_time转换为“sta”—预定到达时间\n",
    "data['sta'] = data.sched_arr_time.astype(str).str.replace('(\\d{2}$)', '') + ':' + data.sched_arr_time.astype(\n",
    "    str).str.extract('(\\d{2}$)', expand=False) + ':00'\n",
    "#将dep_time转换为'atd' -实际出发时间\n",
    "data['atd'] = data.dep_time.fillna(0).astype(np.int64).astype(str).str.replace('(\\d{2}$)',\n",
    "                                                                               '') + ':' + data.dep_time.fillna(\n",
    "    0).astype(np.int64).astype(str).str.extract('(\\d{2}$)', expand=False) + ':00'\n",
    "#将arr_time转换为'ata' -实际到达时间\n",
    "data['ata'] = data.arr_time.fillna(0).astype(np.int64).astype(str).str.replace('(\\d{2}$)',\n",
    "                                                                               '') + ':' + data.arr_time.fillna(\n",
    "    0).astype(np.int64).astype(str).str.extract('(\\d{2}$)', expand=False) + ':00'\n",
    "data['date'] = pd.to_datetime(data[['year', 'month', 'day']])\n",
    "data = data.drop(columns=['year', 'month', 'day'])"
   ],
   "metadata": {
    "collapsed": false,
    "pycharm": {
     "name": "#%%\n"
    }
   }
  },
  {
   "cell_type": "code",
   "execution_count": 16,
   "outputs": [
    {
     "data": {
      "text/plain": "   dep_time  sched_dep_time  dep_delay  arr_time  sched_arr_time  arr_delay  \\\n0       517             515        2.0       830             819       11.0   \n1       533             529        4.0       850             830       20.0   \n2       542             540        2.0       923             850       33.0   \n3       544             545       -1.0      1004            1022      -18.0   \n4       554             600       -6.0       812             837      -25.0   \n\n  carrier  flight tailnum origin  ... air_time  distance  hour  minute  \\\n0      UA    1545  N14228    EWR  ...    227.0    1400.0   5.0    15.0   \n1      UA    1714  N24211    LGA  ...    227.0    1416.0   5.0    29.0   \n2      AA    1141  N619AA    JFK  ...    160.0    1089.0   5.0    40.0   \n3      B6     725  N804JB    JFK  ...    183.0    1576.0   5.0    45.0   \n4      DL     461  N668DN    LGA  ...    116.0     762.0   6.0     0.0   \n\n              time_hour      std       sta      atd       ata       date  \n0  2013-01-01T05:00:00Z  5:15:00   8:19:00  5:17:00   8:30:00 2013-01-01  \n1  2013-01-01T05:00:00Z  5:29:00   8:30:00  5:33:00   8:50:00 2013-01-01  \n2  2013-01-01T05:00:00Z  5:40:00   8:50:00  5:42:00   9:23:00 2013-01-01  \n3  2013-01-01T05:00:00Z  5:45:00  10:22:00  5:44:00  10:04:00 2013-01-01  \n4  2013-01-01T06:00:00Z  6:00:00   8:37:00  5:54:00   8:12:00 2013-01-01  \n\n[5 rows x 21 columns]",
      "text/html": "<div>\n<style scoped>\n    .dataframe tbody tr th:only-of-type {\n        vertical-align: middle;\n    }\n\n    .dataframe tbody tr th {\n        vertical-align: top;\n    }\n\n    .dataframe thead th {\n        text-align: right;\n    }\n</style>\n<table border=\"1\" class=\"dataframe\">\n  <thead>\n    <tr style=\"text-align: right;\">\n      <th></th>\n      <th>dep_time</th>\n      <th>sched_dep_time</th>\n      <th>dep_delay</th>\n      <th>arr_time</th>\n      <th>sched_arr_time</th>\n      <th>arr_delay</th>\n      <th>carrier</th>\n      <th>flight</th>\n      <th>tailnum</th>\n      <th>origin</th>\n      <th>...</th>\n      <th>air_time</th>\n      <th>distance</th>\n      <th>hour</th>\n      <th>minute</th>\n      <th>time_hour</th>\n      <th>std</th>\n      <th>sta</th>\n      <th>atd</th>\n      <th>ata</th>\n      <th>date</th>\n    </tr>\n  </thead>\n  <tbody>\n    <tr>\n      <th>0</th>\n      <td>517</td>\n      <td>515</td>\n      <td>2.0</td>\n      <td>830</td>\n      <td>819</td>\n      <td>11.0</td>\n      <td>UA</td>\n      <td>1545</td>\n      <td>N14228</td>\n      <td>EWR</td>\n      <td>...</td>\n      <td>227.0</td>\n      <td>1400.0</td>\n      <td>5.0</td>\n      <td>15.0</td>\n      <td>2013-01-01T05:00:00Z</td>\n      <td>5:15:00</td>\n      <td>8:19:00</td>\n      <td>5:17:00</td>\n      <td>8:30:00</td>\n      <td>2013-01-01</td>\n    </tr>\n    <tr>\n      <th>1</th>\n      <td>533</td>\n      <td>529</td>\n      <td>4.0</td>\n      <td>850</td>\n      <td>830</td>\n      <td>20.0</td>\n      <td>UA</td>\n      <td>1714</td>\n      <td>N24211</td>\n      <td>LGA</td>\n      <td>...</td>\n      <td>227.0</td>\n      <td>1416.0</td>\n      <td>5.0</td>\n      <td>29.0</td>\n      <td>2013-01-01T05:00:00Z</td>\n      <td>5:29:00</td>\n      <td>8:30:00</td>\n      <td>5:33:00</td>\n      <td>8:50:00</td>\n      <td>2013-01-01</td>\n    </tr>\n    <tr>\n      <th>2</th>\n      <td>542</td>\n      <td>540</td>\n      <td>2.0</td>\n      <td>923</td>\n      <td>850</td>\n      <td>33.0</td>\n      <td>AA</td>\n      <td>1141</td>\n      <td>N619AA</td>\n      <td>JFK</td>\n      <td>...</td>\n      <td>160.0</td>\n      <td>1089.0</td>\n      <td>5.0</td>\n      <td>40.0</td>\n      <td>2013-01-01T05:00:00Z</td>\n      <td>5:40:00</td>\n      <td>8:50:00</td>\n      <td>5:42:00</td>\n      <td>9:23:00</td>\n      <td>2013-01-01</td>\n    </tr>\n    <tr>\n      <th>3</th>\n      <td>544</td>\n      <td>545</td>\n      <td>-1.0</td>\n      <td>1004</td>\n      <td>1022</td>\n      <td>-18.0</td>\n      <td>B6</td>\n      <td>725</td>\n      <td>N804JB</td>\n      <td>JFK</td>\n      <td>...</td>\n      <td>183.0</td>\n      <td>1576.0</td>\n      <td>5.0</td>\n      <td>45.0</td>\n      <td>2013-01-01T05:00:00Z</td>\n      <td>5:45:00</td>\n      <td>10:22:00</td>\n      <td>5:44:00</td>\n      <td>10:04:00</td>\n      <td>2013-01-01</td>\n    </tr>\n    <tr>\n      <th>4</th>\n      <td>554</td>\n      <td>600</td>\n      <td>-6.0</td>\n      <td>812</td>\n      <td>837</td>\n      <td>-25.0</td>\n      <td>DL</td>\n      <td>461</td>\n      <td>N668DN</td>\n      <td>LGA</td>\n      <td>...</td>\n      <td>116.0</td>\n      <td>762.0</td>\n      <td>6.0</td>\n      <td>0.0</td>\n      <td>2013-01-01T06:00:00Z</td>\n      <td>6:00:00</td>\n      <td>8:37:00</td>\n      <td>5:54:00</td>\n      <td>8:12:00</td>\n      <td>2013-01-01</td>\n    </tr>\n  </tbody>\n</table>\n<p>5 rows × 21 columns</p>\n</div>"
     },
     "execution_count": 16,
     "metadata": {},
     "output_type": "execute_result"
    }
   ],
   "source": [
    "data.to_csv(\"../data/flights_export.csv\")\n",
    "data.head()"
   ],
   "metadata": {
    "collapsed": false,
    "pycharm": {
     "name": "#%%\n"
    }
   }
  },
  {
   "cell_type": "code",
   "execution_count": 17,
   "outputs": [],
   "source": [
    "FG = nx.from_pandas_edgelist(data, source='origin', target='dest', edge_attr=True, )"
   ],
   "metadata": {
    "collapsed": false,
    "pycharm": {
     "name": "#%%\n"
    }
   }
  },
  {
   "cell_type": "code",
   "execution_count": 18,
   "outputs": [
    {
     "data": {
      "text/plain": "NodeView(('EWR', 'IAH', 'LGA', 'JFK', 'MIA', 'BQN', 'ATL', 'ORD', 'FLL', 'IAD', 'MCO', 'PBI', 'TPA', 'LAX', 'SFO', 'DFW', 'BOS', 'LAS', 'MSP', 'DTW', 'RSW', 'SJU', 'PHX', 'BWI', 'CLT', 'BUF', 'DEN', 'SNA', 'MSY', 'SLC', 'XNA', 'MKE', 'SEA', 'ROC', 'SYR', 'SRQ'))"
     },
     "execution_count": 18,
     "metadata": {},
     "output_type": "execute_result"
    }
   ],
   "source": [
    "FG.nodes()  # 查看所有节点"
   ],
   "metadata": {
    "collapsed": false,
    "pycharm": {
     "name": "#%%\n"
    }
   }
  },
  {
   "cell_type": "code",
   "execution_count": 19,
   "outputs": [
    {
     "data": {
      "text/plain": "EdgeView([('EWR', 'IAH'), ('EWR', 'ORD'), ('EWR', 'FLL'), ('EWR', 'SFO'), ('EWR', 'LAS'), ('EWR', 'PBI'), ('EWR', 'MIA'), ('EWR', 'ATL'), ('EWR', 'PHX'), ('EWR', 'MSP'), ('EWR', 'LAX'), ('EWR', 'CLT'), ('EWR', 'IAD'), ('EWR', 'SNA'), ('EWR', 'TPA'), ('EWR', 'RSW'), ('EWR', 'SJU'), ('EWR', 'SEA'), ('EWR', 'DFW'), ('EWR', 'DEN'), ('EWR', 'MCO'), ('IAH', 'LGA'), ('LGA', 'ATL'), ('LGA', 'IAD'), ('LGA', 'ORD'), ('LGA', 'DFW'), ('LGA', 'FLL'), ('LGA', 'MSP'), ('LGA', 'DTW'), ('LGA', 'MIA'), ('LGA', 'BWI'), ('LGA', 'MCO'), ('LGA', 'DEN'), ('LGA', 'PBI'), ('LGA', 'XNA'), ('LGA', 'MKE'), ('LGA', 'RSW'), ('LGA', 'TPA'), ('LGA', 'CLT'), ('JFK', 'MIA'), ('JFK', 'BQN'), ('JFK', 'MCO'), ('JFK', 'PBI'), ('JFK', 'TPA'), ('JFK', 'LAX'), ('JFK', 'BOS'), ('JFK', 'ATL'), ('JFK', 'SFO'), ('JFK', 'RSW'), ('JFK', 'SJU'), ('JFK', 'PHX'), ('JFK', 'BUF'), ('JFK', 'LAS'), ('JFK', 'MSY'), ('JFK', 'SLC'), ('JFK', 'FLL'), ('JFK', 'ROC'), ('JFK', 'SYR'), ('JFK', 'SRQ'), ('JFK', 'SEA')])"
     },
     "execution_count": 19,
     "metadata": {},
     "output_type": "execute_result"
    }
   ],
   "source": [
    "FG.edges()  # 查看所有边"
   ],
   "metadata": {
    "collapsed": false,
    "pycharm": {
     "name": "#%%\n"
    }
   }
  },
  {
   "cell_type": "code",
   "execution_count": 20,
   "outputs": [
    {
     "data": {
      "text/plain": "{21: 2.119047619047619,\n 2: 20.192307692307693,\n 18: 2.1666666666666665,\n 3: 20.0,\n 1: 20.076923076923077}"
     },
     "execution_count": 20,
     "metadata": {},
     "output_type": "execute_result"
    },
    {
     "data": {
      "text/plain": "<Figure size 432x288 with 1 Axes>",
      "image/png": "[encoded data removed]"
     },
     "metadata": {},
     "output_type": "display_data"
    }
   ],
   "source": [
    "nx.draw_networkx(FG, with_labels=True)  #快速查看图表,发现3个十分繁忙的机场\n",
    "nx.algorithms.degree_centrality(FG)#100条记录3机场\n",
    "nx.density(FG) # 图的平均边密度 0.09047619047619047\n",
    "nx.average_shortest_path_length(FG) #图中所有路径的平均最短路径长度2.36984126984127\n",
    "nx.average_degree_connectivity(FG) #对于一个度为k的节点-它的邻居度的平均值是多少?"
   ],
   "metadata": {
    "collapsed": false,
    "pycharm": {
     "name": "#%%\n"
    }
   }
  },
  {
   "cell_type": "code",
   "execution_count": 21,
   "outputs": [
    {
     "name": "stdout",
     "output_type": "stream",
     "text": [
      "['MKE', 'LGA', 'IAH', 'EWR', 'FLL', 'JFK', 'BOS']\n",
      "['MKE', 'LGA', 'IAH', 'EWR', 'SFO', 'JFK', 'BOS']\n",
      "['MKE', 'LGA', 'IAH', 'EWR', 'LAS', 'JFK', 'BOS']\n",
      "['MKE', 'LGA', 'IAH', 'EWR', 'PBI', 'JFK', 'BOS']\n",
      "['MKE', 'LGA', 'IAH', 'EWR', 'MIA', 'JFK', 'BOS']\n",
      "['MKE', 'LGA', 'IAH', 'EWR', 'ATL', 'JFK', 'BOS']\n",
      "['MKE', 'LGA', 'IAH', 'EWR', 'PHX', 'JFK', 'BOS']\n",
      "['MKE', 'LGA', 'IAH', 'EWR', 'LAX', 'JFK', 'BOS']\n",
      "['MKE', 'LGA', 'IAH', 'EWR', 'TPA', 'JFK', 'BOS']\n",
      "['MKE', 'LGA', 'IAH', 'EWR', 'RSW', 'JFK', 'BOS']\n",
      "['MKE', 'LGA', 'IAH', 'EWR', 'SJU', 'JFK', 'BOS']\n",
      "['MKE', 'LGA', 'IAH', 'EWR', 'SEA', 'JFK', 'BOS']\n",
      "['MKE', 'LGA', 'IAH', 'EWR', 'MCO', 'JFK', 'BOS']\n",
      "['MKE', 'LGA', 'ATL', 'JFK', 'BOS']\n",
      "['MKE', 'LGA', 'ATL', 'EWR', 'FLL', 'JFK', 'BOS']\n",
      "['MKE', 'LGA', 'ATL', 'EWR', 'SFO', 'JFK', 'BOS']\n",
      "['MKE', 'LGA', 'ATL', 'EWR', 'LAS', 'JFK', 'BOS']\n",
      "['MKE', 'LGA', 'ATL', 'EWR', 'PBI', 'JFK', 'BOS']\n",
      "['MKE', 'LGA', 'ATL', 'EWR', 'MIA', 'JFK', 'BOS']\n",
      "['MKE', 'LGA', 'ATL', 'EWR', 'PHX', 'JFK', 'BOS']\n",
      "['MKE', 'LGA', 'ATL', 'EWR', 'LAX', 'JFK', 'BOS']\n",
      "['MKE', 'LGA', 'ATL', 'EWR', 'TPA', 'JFK', 'BOS']\n",
      "['MKE', 'LGA', 'ATL', 'EWR', 'RSW', 'JFK', 'BOS']\n",
      "['MKE', 'LGA', 'ATL', 'EWR', 'SJU', 'JFK', 'BOS']\n",
      "['MKE', 'LGA', 'ATL', 'EWR', 'SEA', 'JFK', 'BOS']\n",
      "['MKE', 'LGA', 'ATL', 'EWR', 'MCO', 'JFK', 'BOS']\n",
      "['MKE', 'LGA', 'IAD', 'EWR', 'FLL', 'JFK', 'BOS']\n",
      "['MKE', 'LGA', 'IAD', 'EWR', 'SFO', 'JFK', 'BOS']\n",
      "['MKE', 'LGA', 'IAD', 'EWR', 'LAS', 'JFK', 'BOS']\n",
      "['MKE', 'LGA', 'IAD', 'EWR', 'PBI', 'JFK', 'BOS']\n",
      "['MKE', 'LGA', 'IAD', 'EWR', 'MIA', 'JFK', 'BOS']\n",
      "['MKE', 'LGA', 'IAD', 'EWR', 'ATL', 'JFK', 'BOS']\n",
      "['MKE', 'LGA', 'IAD', 'EWR', 'PHX', 'JFK', 'BOS']\n",
      "['MKE', 'LGA', 'IAD', 'EWR', 'LAX', 'JFK', 'BOS']\n",
      "['MKE', 'LGA', 'IAD', 'EWR', 'TPA', 'JFK', 'BOS']\n",
      "['MKE', 'LGA', 'IAD', 'EWR', 'RSW', 'JFK', 'BOS']\n",
      "['MKE', 'LGA', 'IAD', 'EWR', 'SJU', 'JFK', 'BOS']\n",
      "['MKE', 'LGA', 'IAD', 'EWR', 'SEA', 'JFK', 'BOS']\n",
      "['MKE', 'LGA', 'IAD', 'EWR', 'MCO', 'JFK', 'BOS']\n",
      "['MKE', 'LGA', 'ORD', 'EWR', 'FLL', 'JFK', 'BOS']\n",
      "['MKE', 'LGA', 'ORD', 'EWR', 'SFO', 'JFK', 'BOS']\n",
      "['MKE', 'LGA', 'ORD', 'EWR', 'LAS', 'JFK', 'BOS']\n",
      "['MKE', 'LGA', 'ORD', 'EWR', 'PBI', 'JFK', 'BOS']\n",
      "['MKE', 'LGA', 'ORD', 'EWR', 'MIA', 'JFK', 'BOS']\n",
      "['MKE', 'LGA', 'ORD', 'EWR', 'ATL', 'JFK', 'BOS']\n",
      "['MKE', 'LGA', 'ORD', 'EWR', 'PHX', 'JFK', 'BOS']\n",
      "['MKE', 'LGA', 'ORD', 'EWR', 'LAX', 'JFK', 'BOS']\n",
      "['MKE', 'LGA', 'ORD', 'EWR', 'TPA', 'JFK', 'BOS']\n",
      "['MKE', 'LGA', 'ORD', 'EWR', 'RSW', 'JFK', 'BOS']\n",
      "['MKE', 'LGA', 'ORD', 'EWR', 'SJU', 'JFK', 'BOS']\n",
      "['MKE', 'LGA', 'ORD', 'EWR', 'SEA', 'JFK', 'BOS']\n",
      "['MKE', 'LGA', 'ORD', 'EWR', 'MCO', 'JFK', 'BOS']\n",
      "['MKE', 'LGA', 'DFW', 'EWR', 'FLL', 'JFK', 'BOS']\n",
      "['MKE', 'LGA', 'DFW', 'EWR', 'SFO', 'JFK', 'BOS']\n",
      "['MKE', 'LGA', 'DFW', 'EWR', 'LAS', 'JFK', 'BOS']\n",
      "['MKE', 'LGA', 'DFW', 'EWR', 'PBI', 'JFK', 'BOS']\n",
      "['MKE', 'LGA', 'DFW', 'EWR', 'MIA', 'JFK', 'BOS']\n",
      "['MKE', 'LGA', 'DFW', 'EWR', 'ATL', 'JFK', 'BOS']\n",
      "['MKE', 'LGA', 'DFW', 'EWR', 'PHX', 'JFK', 'BOS']\n",
      "['MKE', 'LGA', 'DFW', 'EWR', 'LAX', 'JFK', 'BOS']\n",
      "['MKE', 'LGA', 'DFW', 'EWR', 'TPA', 'JFK', 'BOS']\n",
      "['MKE', 'LGA', 'DFW', 'EWR', 'RSW', 'JFK', 'BOS']\n",
      "['MKE', 'LGA', 'DFW', 'EWR', 'SJU', 'JFK', 'BOS']\n",
      "['MKE', 'LGA', 'DFW', 'EWR', 'SEA', 'JFK', 'BOS']\n",
      "['MKE', 'LGA', 'DFW', 'EWR', 'MCO', 'JFK', 'BOS']\n",
      "['MKE', 'LGA', 'FLL', 'EWR', 'SFO', 'JFK', 'BOS']\n",
      "['MKE', 'LGA', 'FLL', 'EWR', 'LAS', 'JFK', 'BOS']\n",
      "['MKE', 'LGA', 'FLL', 'EWR', 'PBI', 'JFK', 'BOS']\n",
      "['MKE', 'LGA', 'FLL', 'EWR', 'MIA', 'JFK', 'BOS']\n",
      "['MKE', 'LGA', 'FLL', 'EWR', 'ATL', 'JFK', 'BOS']\n",
      "['MKE', 'LGA', 'FLL', 'EWR', 'PHX', 'JFK', 'BOS']\n",
      "['MKE', 'LGA', 'FLL', 'EWR', 'LAX', 'JFK', 'BOS']\n",
      "['MKE', 'LGA', 'FLL', 'EWR', 'TPA', 'JFK', 'BOS']\n",
      "['MKE', 'LGA', 'FLL', 'EWR', 'RSW', 'JFK', 'BOS']\n",
      "['MKE', 'LGA', 'FLL', 'EWR', 'SJU', 'JFK', 'BOS']\n",
      "['MKE', 'LGA', 'FLL', 'EWR', 'SEA', 'JFK', 'BOS']\n",
      "['MKE', 'LGA', 'FLL', 'EWR', 'MCO', 'JFK', 'BOS']\n",
      "['MKE', 'LGA', 'FLL', 'JFK', 'BOS']\n",
      "['MKE', 'LGA', 'MSP', 'EWR', 'FLL', 'JFK', 'BOS']\n",
      "['MKE', 'LGA', 'MSP', 'EWR', 'SFO', 'JFK', 'BOS']\n",
      "['MKE', 'LGA', 'MSP', 'EWR', 'LAS', 'JFK', 'BOS']\n",
      "['MKE', 'LGA', 'MSP', 'EWR', 'PBI', 'JFK', 'BOS']\n",
      "['MKE', 'LGA', 'MSP', 'EWR', 'MIA', 'JFK', 'BOS']\n",
      "['MKE', 'LGA', 'MSP', 'EWR', 'ATL', 'JFK', 'BOS']\n",
      "['MKE', 'LGA', 'MSP', 'EWR', 'PHX', 'JFK', 'BOS']\n",
      "['MKE', 'LGA', 'MSP', 'EWR', 'LAX', 'JFK', 'BOS']\n",
      "['MKE', 'LGA', 'MSP', 'EWR', 'TPA', 'JFK', 'BOS']\n",
      "['MKE', 'LGA', 'MSP', 'EWR', 'RSW', 'JFK', 'BOS']\n",
      "['MKE', 'LGA', 'MSP', 'EWR', 'SJU', 'JFK', 'BOS']\n",
      "['MKE', 'LGA', 'MSP', 'EWR', 'SEA', 'JFK', 'BOS']\n",
      "['MKE', 'LGA', 'MSP', 'EWR', 'MCO', 'JFK', 'BOS']\n",
      "['MKE', 'LGA', 'MIA', 'JFK', 'BOS']\n",
      "['MKE', 'LGA', 'MIA', 'EWR', 'FLL', 'JFK', 'BOS']\n",
      "['MKE', 'LGA', 'MIA', 'EWR', 'SFO', 'JFK', 'BOS']\n",
      "['MKE', 'LGA', 'MIA', 'EWR', 'LAS', 'JFK', 'BOS']\n",
      "['MKE', 'LGA', 'MIA', 'EWR', 'PBI', 'JFK', 'BOS']\n",
      "['MKE', 'LGA', 'MIA', 'EWR', 'ATL', 'JFK', 'BOS']\n",
      "['MKE', 'LGA', 'MIA', 'EWR', 'PHX', 'JFK', 'BOS']\n",
      "['MKE', 'LGA', 'MIA', 'EWR', 'LAX', 'JFK', 'BOS']\n",
      "['MKE', 'LGA', 'MIA', 'EWR', 'TPA', 'JFK', 'BOS']\n",
      "['MKE', 'LGA', 'MIA', 'EWR', 'RSW', 'JFK', 'BOS']\n",
      "['MKE', 'LGA', 'MIA', 'EWR', 'SJU', 'JFK', 'BOS']\n",
      "['MKE', 'LGA', 'MIA', 'EWR', 'SEA', 'JFK', 'BOS']\n",
      "['MKE', 'LGA', 'MIA', 'EWR', 'MCO', 'JFK', 'BOS']\n",
      "['MKE', 'LGA', 'MCO', 'JFK', 'BOS']\n",
      "['MKE', 'LGA', 'MCO', 'EWR', 'FLL', 'JFK', 'BOS']\n",
      "['MKE', 'LGA', 'MCO', 'EWR', 'SFO', 'JFK', 'BOS']\n",
      "['MKE', 'LGA', 'MCO', 'EWR', 'LAS', 'JFK', 'BOS']\n",
      "['MKE', 'LGA', 'MCO', 'EWR', 'PBI', 'JFK', 'BOS']\n",
      "['MKE', 'LGA', 'MCO', 'EWR', 'MIA', 'JFK', 'BOS']\n",
      "['MKE', 'LGA', 'MCO', 'EWR', 'ATL', 'JFK', 'BOS']\n",
      "['MKE', 'LGA', 'MCO', 'EWR', 'PHX', 'JFK', 'BOS']\n",
      "['MKE', 'LGA', 'MCO', 'EWR', 'LAX', 'JFK', 'BOS']\n",
      "['MKE', 'LGA', 'MCO', 'EWR', 'TPA', 'JFK', 'BOS']\n",
      "['MKE', 'LGA', 'MCO', 'EWR', 'RSW', 'JFK', 'BOS']\n",
      "['MKE', 'LGA', 'MCO', 'EWR', 'SJU', 'JFK', 'BOS']\n",
      "['MKE', 'LGA', 'MCO', 'EWR', 'SEA', 'JFK', 'BOS']\n",
      "['MKE', 'LGA', 'DEN', 'EWR', 'FLL', 'JFK', 'BOS']\n",
      "['MKE', 'LGA', 'DEN', 'EWR', 'SFO', 'JFK', 'BOS']\n",
      "['MKE', 'LGA', 'DEN', 'EWR', 'LAS', 'JFK', 'BOS']\n",
      "['MKE', 'LGA', 'DEN', 'EWR', 'PBI', 'JFK', 'BOS']\n",
      "['MKE', 'LGA', 'DEN', 'EWR', 'MIA', 'JFK', 'BOS']\n",
      "['MKE', 'LGA', 'DEN', 'EWR', 'ATL', 'JFK', 'BOS']\n",
      "['MKE', 'LGA', 'DEN', 'EWR', 'PHX', 'JFK', 'BOS']\n",
      "['MKE', 'LGA', 'DEN', 'EWR', 'LAX', 'JFK', 'BOS']\n",
      "['MKE', 'LGA', 'DEN', 'EWR', 'TPA', 'JFK', 'BOS']\n",
      "['MKE', 'LGA', 'DEN', 'EWR', 'RSW', 'JFK', 'BOS']\n",
      "['MKE', 'LGA', 'DEN', 'EWR', 'SJU', 'JFK', 'BOS']\n",
      "['MKE', 'LGA', 'DEN', 'EWR', 'SEA', 'JFK', 'BOS']\n",
      "['MKE', 'LGA', 'DEN', 'EWR', 'MCO', 'JFK', 'BOS']\n",
      "['MKE', 'LGA', 'PBI', 'JFK', 'BOS']\n",
      "['MKE', 'LGA', 'PBI', 'EWR', 'FLL', 'JFK', 'BOS']\n",
      "['MKE', 'LGA', 'PBI', 'EWR', 'SFO', 'JFK', 'BOS']\n",
      "['MKE', 'LGA', 'PBI', 'EWR', 'LAS', 'JFK', 'BOS']\n",
      "['MKE', 'LGA', 'PBI', 'EWR', 'MIA', 'JFK', 'BOS']\n",
      "['MKE', 'LGA', 'PBI', 'EWR', 'ATL', 'JFK', 'BOS']\n",
      "['MKE', 'LGA', 'PBI', 'EWR', 'PHX', 'JFK', 'BOS']\n",
      "['MKE', 'LGA', 'PBI', 'EWR', 'LAX', 'JFK', 'BOS']\n",
      "['MKE', 'LGA', 'PBI', 'EWR', 'TPA', 'JFK', 'BOS']\n",
      "['MKE', 'LGA', 'PBI', 'EWR', 'RSW', 'JFK', 'BOS']\n",
      "['MKE', 'LGA', 'PBI', 'EWR', 'SJU', 'JFK', 'BOS']\n",
      "['MKE', 'LGA', 'PBI', 'EWR', 'SEA', 'JFK', 'BOS']\n",
      "['MKE', 'LGA', 'PBI', 'EWR', 'MCO', 'JFK', 'BOS']\n",
      "['MKE', 'LGA', 'RSW', 'JFK', 'BOS']\n",
      "['MKE', 'LGA', 'RSW', 'EWR', 'FLL', 'JFK', 'BOS']\n",
      "['MKE', 'LGA', 'RSW', 'EWR', 'SFO', 'JFK', 'BOS']\n",
      "['MKE', 'LGA', 'RSW', 'EWR', 'LAS', 'JFK', 'BOS']\n",
      "['MKE', 'LGA', 'RSW', 'EWR', 'PBI', 'JFK', 'BOS']\n",
      "['MKE', 'LGA', 'RSW', 'EWR', 'MIA', 'JFK', 'BOS']\n",
      "['MKE', 'LGA', 'RSW', 'EWR', 'ATL', 'JFK', 'BOS']\n",
      "['MKE', 'LGA', 'RSW', 'EWR', 'PHX', 'JFK', 'BOS']\n",
      "['MKE', 'LGA', 'RSW', 'EWR', 'LAX', 'JFK', 'BOS']\n",
      "['MKE', 'LGA', 'RSW', 'EWR', 'TPA', 'JFK', 'BOS']\n",
      "['MKE', 'LGA', 'RSW', 'EWR', 'SJU', 'JFK', 'BOS']\n",
      "['MKE', 'LGA', 'RSW', 'EWR', 'SEA', 'JFK', 'BOS']\n",
      "['MKE', 'LGA', 'RSW', 'EWR', 'MCO', 'JFK', 'BOS']\n",
      "['MKE', 'LGA', 'TPA', 'JFK', 'BOS']\n",
      "['MKE', 'LGA', 'TPA', 'EWR', 'FLL', 'JFK', 'BOS']\n",
      "['MKE', 'LGA', 'TPA', 'EWR', 'SFO', 'JFK', 'BOS']\n",
      "['MKE', 'LGA', 'TPA', 'EWR', 'LAS', 'JFK', 'BOS']\n",
      "['MKE', 'LGA', 'TPA', 'EWR', 'PBI', 'JFK', 'BOS']\n",
      "['MKE', 'LGA', 'TPA', 'EWR', 'MIA', 'JFK', 'BOS']\n",
      "['MKE', 'LGA', 'TPA', 'EWR', 'ATL', 'JFK', 'BOS']\n",
      "['MKE', 'LGA', 'TPA', 'EWR', 'PHX', 'JFK', 'BOS']\n",
      "['MKE', 'LGA', 'TPA', 'EWR', 'LAX', 'JFK', 'BOS']\n",
      "['MKE', 'LGA', 'TPA', 'EWR', 'RSW', 'JFK', 'BOS']\n",
      "['MKE', 'LGA', 'TPA', 'EWR', 'SJU', 'JFK', 'BOS']\n",
      "['MKE', 'LGA', 'TPA', 'EWR', 'SEA', 'JFK', 'BOS']\n",
      "['MKE', 'LGA', 'TPA', 'EWR', 'MCO', 'JFK', 'BOS']\n",
      "['MKE', 'LGA', 'CLT', 'EWR', 'FLL', 'JFK', 'BOS']\n",
      "['MKE', 'LGA', 'CLT', 'EWR', 'SFO', 'JFK', 'BOS']\n",
      "['MKE', 'LGA', 'CLT', 'EWR', 'LAS', 'JFK', 'BOS']\n",
      "['MKE', 'LGA', 'CLT', 'EWR', 'PBI', 'JFK', 'BOS']\n",
      "['MKE', 'LGA', 'CLT', 'EWR', 'MIA', 'JFK', 'BOS']\n",
      "['MKE', 'LGA', 'CLT', 'EWR', 'ATL', 'JFK', 'BOS']\n",
      "['MKE', 'LGA', 'CLT', 'EWR', 'PHX', 'JFK', 'BOS']\n",
      "['MKE', 'LGA', 'CLT', 'EWR', 'LAX', 'JFK', 'BOS']\n",
      "['MKE', 'LGA', 'CLT', 'EWR', 'TPA', 'JFK', 'BOS']\n",
      "['MKE', 'LGA', 'CLT', 'EWR', 'RSW', 'JFK', 'BOS']\n",
      "['MKE', 'LGA', 'CLT', 'EWR', 'SJU', 'JFK', 'BOS']\n",
      "['MKE', 'LGA', 'CLT', 'EWR', 'SEA', 'JFK', 'BOS']\n",
      "['MKE', 'LGA', 'CLT', 'EWR', 'MCO', 'JFK', 'BOS']\n"
     ]
    },
    {
     "data": {
      "text/plain": "['MKE', 'LGA', 'ATL', 'JFK', 'BOS']"
     },
     "execution_count": 21,
     "metadata": {},
     "output_type": "execute_result"
    }
   ],
   "source": [
    "for path in nx.all_simple_paths(FG, source='MKE', target='BOS'):\n",
    "    print(path)\n",
    "dijpath = nx.dijkstra_path(FG, source='MKE', target='BOS')\n",
    "dijpath"
   ],
   "metadata": {
    "collapsed": false,
    "pycharm": {
     "name": "#%%\n"
    }
   }
  },
  {
   "cell_type": "code",
   "execution_count": 22,
   "outputs": [
    {
     "data": {
      "text/plain": "['MKE', 'LGA', 'ATL', 'JFK', 'BOS']"
     },
     "execution_count": 22,
     "metadata": {},
     "output_type": "execute_result"
    }
   ],
   "source": [
    "shortpath = nx.dijkstra_path(FG, source='MKE', target='BOS', weight='air_time')\n",
    "shortpath"
   ],
   "metadata": {
    "collapsed": false,
    "pycharm": {
     "name": "#%%\n"
    }
   }
  },
  {
   "cell_type": "code",
   "execution_count": 23,
   "outputs": [
    {
     "name": "stdout",
     "output_type": "stream",
     "text": [
      "生成一个空的有向图\n",
      "为这个网络添加节点...\n",
      "在网络中添加带权中的边...\n",
      "给网路设置布局...\n",
      "画出网络图像：\n"
     ]
    },
    {
     "data": {
      "text/plain": "<Figure size 432x288 with 1 Axes>",
      "image/png": "[encoded data removed]"
     },
     "metadata": {},
     "output_type": "display_data"
    },
    {
     "name": "stdout",
     "output_type": "stream",
     "text": [
      "dijkstra方法寻找最短路径：\n",
      "节点0到7的路径： [0, 3, 6, 7]\n",
      "dijkstra方法寻找最短距离：\n",
      "节点0到7的距离为： 9\n"
     ]
    }
   ],
   "source": [
    "#自定义网络\n",
    "row=np.array([0,0,0,1,2,3,6])\n",
    "col=np.array([1,2,3,4,5,6,7])\n",
    "value=np.array([1,2,1,8,1,3,5])\n",
    "\n",
    "print('生成一个空的有向图')\n",
    "G=nx.DiGraph()\n",
    "print('为这个网络添加节点...')\n",
    "for i in range(0,np.size(col)+1):\n",
    "    G.add_node(i)\n",
    "print('在网络中添加带权中的边...')\n",
    "for i in range(np.size(row)):\n",
    "    G.add_weighted_edges_from([(row[i],col[i],value[i])])\n",
    "\n",
    "print('给网路设置布局...')\n",
    "pos=nx.shell_layout(G)\n",
    "print('画出网络图像：')\n",
    "nx.draw(G,pos,with_labels=True, node_color='white', edge_color='red', node_size=400, alpha=0.5 )\n",
    "pylab.title('Self_Define Net',fontsize=15)\n",
    "pylab.show()\n",
    "\n",
    "\n",
    "'''\n",
    "Shortest Path with dijkstra_path\n",
    "'''\n",
    "print('dijkstra方法寻找最短路径：')\n",
    "path=nx.dijkstra_path(G, source=0, target=7)\n",
    "print('节点0到7的路径：', path)\n",
    "print('dijkstra方法寻找最短距离：')\n",
    "distance=nx.dijkstra_path_length(G, source=0, target=7)\n",
    "print('节点0到7的距离为：', distance)"
   ],
   "metadata": {
    "collapsed": false,
    "pycharm": {
     "name": "#%%\n"
    }
   }
  }
 ],
 "metadata": {
  "kernelspec": {
   "name": "modeling-base",
   "language": "python",
   "display_name": "Modeling-base"
  },
  "language_info": {
   "codemirror_mode": {
    "name": "ipython",
    "version": 2
   },
   "file_extension": ".py",
   "mimetype": "text/x-python",
   "name": "python",
   "nbconvert_exporter": "python",
   "pygments_lexer": "ipython2",
   "version": "2.7.6"
  }
 },
 "nbformat": 4,
 "nbformat_minor": 0
}