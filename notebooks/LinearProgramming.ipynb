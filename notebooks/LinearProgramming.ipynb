{
 "cells": [
  {
   "cell_type": "markdown",
   "source": [
    "# 规划问题\n",
    "## Scipy\n",
    "### 例题1\n",
    "<img src=\"../images/iShot2021-08-09 16.51.12.png\"/>"
   ],
   "metadata": {
    "collapsed": false
   }
  },
  {
   "cell_type": "code",
   "execution_count": 1,
   "outputs": [],
   "source": [
    "import numpy as np\n",
    "from scipy import optimize\n",
    "import pulp\n",
    "import sys\n",
    "import math"
   ],
   "metadata": {
    "collapsed": false,
    "pycharm": {
     "name": "#%%\n"
    }
   }
  },
  {
   "cell_type": "code",
   "execution_count": 2,
   "outputs": [
    {
     "data": {
      "text/plain": "     con: array([1.80714554e-09])\n     fun: -14.571428565645032\n message: 'Optimization terminated successfully.'\n     nit: 5\n   slack: array([-2.24602559e-10,  3.85714286e+00])\n  status: 0\n success: True\n       x: array([6.42857143e+00, 5.71428571e-01, 2.35900788e-10])"
     },
     "execution_count": 2,
     "metadata": {},
     "output_type": "execute_result"
    }
   ],
   "source": [
    "c = np.array([2, 3, -5])\n",
    "A = np.array([[-2, 5, -1], [1, 3, 1]])\n",
    "B = np.array([-10, 12])\n",
    "Aeq = np.array([[1, 1, 1]])\n",
    "Beq = np.array([7])\n",
    "\n",
    "res = optimize.linprog(-c, A, B, Aeq, Beq)  #Max第一个参数为负数，Min为正数\n",
    "res"
   ],
   "metadata": {
    "collapsed": false,
    "pycharm": {
     "name": "#%%\n"
    }
   }
  },
  {
   "cell_type": "markdown",
   "source": [
    "x为x1 x2 x3的取值，fun为规划最大值"
   ],
   "metadata": {
    "collapsed": false
   }
  },
  {
   "cell_type": "markdown",
   "source": [
    "## pulp\n",
    "### 例2\n",
    "<img src=\"../images/iShot2021-08-09 16.53.29.png\"/>"
   ],
   "metadata": {
    "collapsed": false
   }
  },
  {
   "cell_type": "code",
   "execution_count": 3,
   "outputs": [
    {
     "name": "stdout",
     "output_type": "stream",
     "text": [
      "[x1, x2, x3]\n",
      "y:202.0\n",
      "x:[101.0, 0.0, 0.0]\n"
     ]
    }
   ],
   "source": [
    "z = [2, 3, 1]\n",
    "\n",
    "a = [[1, 4, 2], [3, 2, 0]]\n",
    "b = [8, 6]\n",
    "\n",
    "c = [[1, 2, 4]]\n",
    "d = [101]\n",
    "\n",
    "m = pulp.LpProblem(sense=pulp.LpMaximize)\n",
    "# x = [pulp.LpVariable(f'x1'), pulp.LpVariable(f'x2'), pulp.LpVariable(f'x3')]\n",
    "x = [pulp.LpVariable(f'x{i}', lowBound=0, cat=pulp.LpInteger) for i in [1, 2, 3]]\n",
    "print(x)\n",
    "\n",
    "m += pulp.lpDot(z, x)\n",
    "for i in range(len(a)):\n",
    "    m += (pulp.lpDot(a[i], x) >= b[i])\n",
    "for i in range(len(c)):\n",
    "    m += (pulp.lpDot(c[i]\n",
    "                     , x) == d[i])\n",
    "for i in x:\n",
    "    m += (pulp.lpDot([1], i) >= [0])\n",
    "\n",
    "m.solve()\n",
    "print(f'y:{pulp.value(m.objective)}')\n",
    "print(f'x:{[pulp.value(var) for var in x]}')"
   ],
   "metadata": {
    "collapsed": false,
    "pycharm": {
     "name": "#%%\n"
    }
   }
  },
  {
   "cell_type": "markdown",
   "source": [
    "## 整数规划\n",
    "<img src=\"../images/iShot2021-08-11 15.42.52.png\"/>\n",
    "sense：LpMaximize（最大优化）/LpMinimize（最小优化）\n",
    "cat：默认为连续变量，LpInteger为离散变量，LpBinary为二值变量"
   ],
   "metadata": {
    "collapsed": false
   }
  },
  {
   "cell_type": "code",
   "execution_count": 4,
   "outputs": [
    {
     "name": "stdout",
     "output_type": "stream",
     "text": [
      "x 1\n",
      "y 0\n",
      "z 1\n",
      "Obj: 3\n"
     ]
    }
   ],
   "source": [
    "# Create a new model\n",
    "m = pulp.LpProblem(sense=pulp.LpMaximize)\n",
    "\n",
    "# Create variables\n",
    "x = pulp.LpVariable(cat=pulp.LpBinary, name=\"x\")\n",
    "y = pulp.LpVariable(cat=pulp.LpBinary, name=\"y\")\n",
    "z = pulp.LpVariable(cat=pulp.LpBinary, name=\"z\")\n",
    "\n",
    "# Add constraint: x + 2 y + 3 z <= 4\n",
    "m += x + 2 * y + 3 * z <= 4, 'c0'\n",
    "# m += pulp.LpConstraint(e=(x + 2 * y + 3 * z), sense=pulp.LpConstraintLE, rhs=4, name='c0')\n",
    "\n",
    "# Add constraint: x + y >= 1\n",
    "m += x + y >= 1, 'c1'\n",
    "# m += pulp.LpConstraint(e=(x + y), sense=pulp.LpConstraintGE, rhs=1, name='c1')\n",
    "\n",
    "# Set objective\n",
    "m.setObjective(x + y + 2 * z)\n",
    "# m += x + y + 2 * z, 'Obj'\n",
    "\n",
    "# Calculate with the default CBC optimizer\n",
    "status = m.solve()\n",
    "\n",
    "if pulp.LpStatus[status] == 'Optimal':\n",
    "\n",
    "    for v in m.variables():\n",
    "        print('%s %g' % (v.name, v.varValue))\n",
    "\n",
    "    print('Obj: %g' % m.objective.value())"
   ],
   "metadata": {
    "collapsed": false,
    "pycharm": {
     "name": "#%%\n"
    }
   }
  },
  {
   "cell_type": "markdown",
   "source": [
    "## 非线性规划\n",
    "\n",
    "计算1/x+x最小值"
   ],
   "metadata": {
    "collapsed": false,
    "pycharm": {
     "name": "#%% md\n"
    }
   }
  },
  {
   "cell_type": "code",
   "execution_count": 5,
   "outputs": [],
   "source": [
    "def fun(args):\n",
    "    a = args\n",
    "    v = lambda x: a / x[0] + x[0]\n",
    "    return v"
   ],
   "metadata": {
    "collapsed": false,
    "pycharm": {
     "name": "#%%\n"
    }
   }
  },
  {
   "cell_type": "code",
   "execution_count": 6,
   "outputs": [
    {
     "name": "stdout",
     "output_type": "stream",
     "text": [
      "2.0000000815356342\n",
      "True\n",
      "[1.00028559]\n"
     ]
    }
   ],
   "source": [
    "args = (1)\n",
    "x0 = np.asarray((2))  # 猜测初始值\n",
    "res = optimize.minimize(fun(args), x0, method='SLSQP')\n",
    "print(res.fun)\n",
    "print(res.success)\n",
    "print(res.x)"
   ],
   "metadata": {
    "collapsed": false,
    "pycharm": {
     "name": "#%%\n"
    }
   }
  },
  {
   "cell_type": "markdown",
   "source": [
    "<img src=\"../images/iShot2021-08-11 15.42.53.png\"/>"
   ],
   "metadata": {
    "collapsed": false,
    "pycharm": {
     "name": "#%% md\n"
    }
   }
  },
  {
   "cell_type": "code",
   "execution_count": 7,
   "outputs": [],
   "source": [
    "def fun(args):\n",
    "    a, b, c, d = args\n",
    "    v = lambda x: (a + x[0]) / (b + x[1]) - c * x[0] + d * x[2]\n",
    "    return v\n",
    "\n",
    "\n",
    "def con(args):\n",
    "    # 约束条件 分为eq 和ineq\n",
    "    # eq表示 函数结果等于0 ； ineq 表示 表达式大于等于0\n",
    "    x1min, x1max, x2min, x2max, x3min, x3max = args\n",
    "    cons = ({'type': 'ineq', 'fun': lambda x: x[0] - x1min},\n",
    "            {'type': 'ineq', 'fun': lambda x: -x[0] + x1max},\n",
    "            {'type': 'ineq', 'fun': lambda x: x[1] - x2min},\n",
    "            {'type': 'ineq', 'fun': lambda x: -x[1] + x2max},\n",
    "            {'type': 'ineq', 'fun': lambda x: x[2] - x3min},\n",
    "            {'type': 'ineq', 'fun': lambda x: -x[2] + x3max})\n",
    "    return cons"
   ],
   "metadata": {
    "collapsed": false,
    "pycharm": {
     "name": "#%%\n"
    }
   }
  },
  {
   "cell_type": "code",
   "execution_count": 9,
   "outputs": [
    {
     "name": "stdout",
     "output_type": "stream",
     "text": [
      "-0.773684210526435\n",
      "True\n",
      "[0.9 0.9 0.1]\n"
     ]
    }
   ],
   "source": [
    "#定义常量值\n",
    "args = (2, 1, 3, 4)  #a,b,c,d\n",
    "#设置参数范围/约束条件\n",
    "args1 = (0.1, 0.9, 0.1, 0.9, 0.1, 0.9)  #x1min, x1max, x2min, x2max\n",
    "cons = con(args1)  #设置初始猜测值\n",
    "x0 = np.asarray((0.5, 0.5, 0.5))    # 初试权重\n",
    "res = optimize.minimize(fun(args), x0, method='SLSQP', constraints=cons)\n",
    "print(res.fun)\n",
    "print(res.success)\n",
    "print(res.x)\n"
   ],
   "metadata": {
    "collapsed": false,
    "pycharm": {
     "name": "#%%\n"
    }
   }
  }
 ],
 "metadata": {
  "kernelspec": {
   "name": "modeling-base",
   "language": "python",
   "display_name": "Modeling-base"
  },
  "language_info": {
   "codemirror_mode": {
    "name": "ipython",
    "version": 2
   },
   "file_extension": ".py",
   "mimetype": "text/x-python",
   "name": "python",
   "nbconvert_exporter": "python",
   "pygments_lexer": "ipython2",
   "version": "2.7.6"
  }
 },
 "nbformat": 4,
 "nbformat_minor": 0
}