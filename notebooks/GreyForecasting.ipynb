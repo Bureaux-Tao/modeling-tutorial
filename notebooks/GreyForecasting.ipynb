{
 "cells": [
  {
   "cell_type": "markdown",
   "metadata": {
    "collapsed": true,
    "pycharm": {
     "name": "#%% md\n"
    }
   },
   "source": [
    "# 模糊评价和灰度预测\n",
    "## Fuzzy C-Means算法\n",
    "\n",
    "模糊c均值聚类融合了模糊理论的精髓。相较于k-means的硬聚类，模糊c提供了更加灵活的聚类结果。因为大部分情况下，数据集中的对象不能划分成为明显分离的簇，指派一个对象到一个特定的簇有些生硬，也可能会出错。故，对每个对象和每个簇赋予一个权值，指明对象属于该簇的程度。当然，基于概率的方法也可以给出这样的权值，但是有时候我们很难确定一个合适的统计模型，因此使用具有自然地、非概率特性的模糊c均值就是一个比较好的选择。\n",
    "\n",
    "**算法步骤：**\n",
    "\n",
    "1. 初始化：通常采用随机初始化。即权值随机地选取。簇数需要人为选定。\n",
    "2. 计算质心：FCM中的质心有别于传统质心的地方在于，它是以隶属度为权重做一个加 权平均。\n",
    "3. 更新模糊伪划分：即更新权重（隶属度）。简单来说，如果x越靠近质心，则隶属度越高， 反之越低。"
   ]
  },
  {
   "cell_type": "markdown",
   "source": [
    "**iris数据集**"
   ],
   "metadata": {
    "collapsed": false
   }
  },
  {
   "cell_type": "code",
   "source": [
    "import copy\n",
    "import math\n",
    "import random\n",
    "import time\n",
    "import sys\n",
    "import numpy as np\n",
    "import pandas as pd\n",
    "from utils.grey_forecast import GrayForecast\n",
    "from utils.GM import GM\n",
    "\n",
    "sys.path.insert(0, '/Users/Bureaux/Documents/workspace/PyCharmProjects/Modeling')\n",
    "from utils.c_means_cluster import c_means_fuzzy\n",
    "\n",
    "global MAX  # 用于初始化隶属度矩阵U\n",
    "MAX = 10000.0\n",
    "\n",
    "global Epsilon  # 结束条件\n",
    "Epsilon = 0.0000001"
   ],
   "metadata": {
    "collapsed": false,
    "pycharm": {
     "name": "#%%\n"
    }
   },
   "execution_count": 1,
   "outputs": []
  },
  {
   "cell_type": "code",
   "source": [
    "def import_data_format_iris(file):\n",
    "    \"\"\"\n",
    "    file这里是输入文件的路径，如iris.txt.\n",
    "    格式化数据，前四列为data，最后一列为类标号（有0，1，2三类）\n",
    "    如果是你自己的data，就不需要执行此段函数了。\n",
    "    \"\"\"\n",
    "    data = []\n",
    "    cluster_location = []\n",
    "    with open(str(file), 'r') as f:\n",
    "        for line in f:\n",
    "            current = line.strip().split(\",\")  #对每一行以逗号为分割，返回一个list\n",
    "            current_dummy = []\n",
    "            for j in range(0, len(current) - 1):\n",
    "                current_dummy.append(float(current[j]))  #current_dummy存放data\n",
    "\n",
    "            #下面注这段话提供了一个范例：若类标号不是0，1，2之类数字时该怎么给数据集\n",
    "            j += 1\n",
    "            if current[j] == \"Iris-setosa\":\n",
    "                cluster_location.append(0)\n",
    "            elif current[j] == \"Iris-versicolor\":\n",
    "                cluster_location.append(1)\n",
    "            else:\n",
    "                cluster_location.append(2)\n",
    "            data.append(current_dummy)\n",
    "    # print(cluster_location)\n",
    "    print(\"加载数据完毕\")\n",
    "    return data\n",
    "\n",
    "\n",
    "#\treturn data , cluster_location\n",
    "\n",
    "def randomize_data(data):\n",
    "    \"\"\"\n",
    "    该功能将数据随机化，并保持随机化顺序的记录\n",
    "    \"\"\"\n",
    "    order = list(range(0, len(data)))\n",
    "    random.shuffle(order)\n",
    "    new_data = [[] for i in range(0, len(data))]\n",
    "    for index in range(0, len(order)):\n",
    "        new_data[index] = data[order[index]]\n",
    "    return new_data, order\n",
    "\n",
    "\n",
    "def de_randomise_data(data, order):\n",
    "    \"\"\"\n",
    "    此函数将返回数据的原始顺序，将randomise_data()返回的order列表作为参数\n",
    "    \"\"\"\n",
    "    new_data = [[] for i in range(0, len(data))]\n",
    "    for index in range(len(order)):\n",
    "        new_data[order[index]] = data[index]\n",
    "    return new_data\n",
    "\n",
    "\n",
    "def print_matrix(list):\n",
    "    \"\"\"\n",
    "    以可重复的方式打印矩阵\n",
    "    \"\"\"\n",
    "    for i in range(0, len(list)):\n",
    "        print(list[i])\n",
    "\n",
    "\n",
    "def initialize_U(data, cluster_number):\n",
    "    \"\"\"\n",
    "    这个函数是隶属度矩阵U的每行加起来都为1. 此处需要一个全局变量MAX.\n",
    "    \"\"\"\n",
    "    global MAX\n",
    "    U = []\n",
    "    for i in range(0, len(data)):\n",
    "        current = []\n",
    "        rand_sum = 0.0\n",
    "        for j in range(0, cluster_number):\n",
    "            dummy = random.randint(1, int(MAX))\n",
    "            current.append(dummy)\n",
    "            rand_sum += dummy\n",
    "        for j in range(0, cluster_number):\n",
    "            current[j] = current[j] / rand_sum\n",
    "        U.append(current)\n",
    "    return U\n",
    "\n",
    "\n",
    "def distance(point, center):\n",
    "    \"\"\"\n",
    "    该函数计算2点之间的距离（作为列表）。我们指欧几里德距离。闵可夫斯基距离\n",
    "    \"\"\"\n",
    "    if len(point) != len(center):\n",
    "        return -1\n",
    "    dummy = 0.0\n",
    "    for i in range(0, len(point)):\n",
    "        dummy += abs(point[i] - center[i]) ** 2\n",
    "    return math.sqrt(dummy)\n",
    "\n",
    "\n",
    "def end_conditon(U, U_old):\n",
    "    \"\"\"\n",
    "\t结束条件。当U矩阵随着连续迭代停止变化时，触发结束\n",
    "\t\"\"\"\n",
    "    global Epsilon\n",
    "    for i in range(0, len(U)):\n",
    "        for j in range(0, len(U[0])):\n",
    "            if abs(U[i][j] - U_old[i][j]) > Epsilon:\n",
    "                return False\n",
    "    return True\n",
    "\n",
    "\n",
    "def normalise_U(U):\n",
    "    \"\"\"\n",
    "    在聚类结束时使U模糊化。每个样本的隶属度最大的为1，其余为0\n",
    "    \"\"\"\n",
    "    for i in range(0, len(U)):\n",
    "        maximum = max(U[i])\n",
    "        for j in range(0, len(U[0])):\n",
    "            if U[i][j] != maximum:\n",
    "                U[i][j] = 0\n",
    "            else:\n",
    "                U[i][j] = 1\n",
    "    return U\n",
    "\n",
    "\n",
    "# m的最佳取值范围为[1.5，2.5]\n",
    "def fuzzy(data, cluster_number, m):\n",
    "    \"\"\"\n",
    "    这是主函数，它将计算所需的聚类中心，并返回最终的归一化隶属矩阵U.\n",
    "    参数是：簇数(cluster_number)和隶属度的因子(m)\n",
    "    \"\"\"\n",
    "    # 初始化隶属度矩阵U\n",
    "    U = initialize_U(data, cluster_number)\n",
    "    # print_matrix(U)\n",
    "    # 循环更新U\n",
    "    while (True):\n",
    "        # 创建它的副本，以检查结束条件\n",
    "        U_old = copy.deepcopy(U)\n",
    "        # 计算聚类中心\n",
    "        C = []\n",
    "        for j in range(0, cluster_number):\n",
    "            current_cluster_center = []\n",
    "            for i in range(0, len(data[0])):\n",
    "                dummy_sum_num = 0.0\n",
    "                dummy_sum_dum = 0.0\n",
    "                for k in range(0, len(data)):\n",
    "                    # 分子\n",
    "                    dummy_sum_num += (U[k][j] ** m) * data[k][i]\n",
    "                    # 分母\n",
    "                    dummy_sum_dum += (U[k][j] ** m)\n",
    "                # 第i列的聚类中心\n",
    "                current_cluster_center.append(dummy_sum_num / dummy_sum_dum)\n",
    "            # 第j簇的所有聚类中心\n",
    "            C.append(current_cluster_center)\n",
    "\n",
    "        # 创建一个距离向量, 用于计算U矩阵。\n",
    "        distance_matrix = []\n",
    "        for i in range(0, len(data)):\n",
    "            current = []\n",
    "            for j in range(0, cluster_number):\n",
    "                current.append(distance(data[i], C[j]))\n",
    "            distance_matrix.append(current)\n",
    "\n",
    "        # 更新U\n",
    "        for j in range(0, cluster_number):\n",
    "            for i in range(0, len(data)):\n",
    "                dummy = 0.0\n",
    "                for k in range(0, cluster_number):\n",
    "                    # 分母\n",
    "                    dummy += (distance_matrix[i][j] / distance_matrix[i][k]) ** (2 / (m - 1))\n",
    "                U[i][j] = 1 / dummy\n",
    "\n",
    "        if end_conditon(U, U_old):\n",
    "            print(\"结束聚类\")\n",
    "            break\n",
    "    print(\"标准化 U\")\n",
    "    U = normalise_U(U)\n",
    "    return U\n",
    "\n",
    "\n",
    "def checker_iris(final_location):\n",
    "    \"\"\"\n",
    "    和真实的聚类结果进行校验比对\n",
    "    \"\"\"\n",
    "    right = 0.0\n",
    "    for k in range(0, 3):\n",
    "        checker = [0, 0, 0]\n",
    "        for i in range(0, 50):\n",
    "            for j in range(0, len(final_location[0])):\n",
    "                if final_location[i + (50 * k)][j] == 1:  #i+(50*k)表示 j表示第j类\n",
    "                    checker[j] += 1  #checker分别统计每一类分类正确的个数\n",
    "        right += max(checker)  #累加分类正确的个数\n",
    "        print(checker)\n",
    "    print('分类正确的个数是:', right)\n",
    "    answer = right / 150 * 100\n",
    "    return \"准确率：\" + str(answer) + \"%\""
   ],
   "metadata": {
    "collapsed": false,
    "pycharm": {
     "name": "#%%\n"
    }
   },
   "execution_count": 2,
   "outputs": []
  },
  {
   "cell_type": "code",
   "source": [
    "# 加载数据\n",
    "data = import_data_format_iris(\"../data/iris.txt\")\n",
    "# print_matrix(data)\n",
    "\n",
    "# 随机化数据\n",
    "data, order = randomize_data(data)\n",
    "# print_matrix(data)\n",
    "\n",
    "start = time.time()\n",
    "# 现在我们有一个名为data的列表，它只是数字\n",
    "# 我们还有另一个名为cluster_location的列表，它给出了正确的聚类结果位置\n",
    "# 调用模糊C均值函数\n",
    "final_location = fuzzy(data, 3, 2)\n",
    "\n",
    "# 还原数据\n",
    "final_location = de_randomise_data(final_location, order)\n",
    "#\tprint_matrix(final_location)\n",
    "\n",
    "# 准确度分析\n",
    "print(checker_iris(final_location))\n",
    "print(\"用时：{0}\".format(time.time() - start))"
   ],
   "metadata": {
    "collapsed": false,
    "pycharm": {
     "name": "#%%\n"
    }
   },
   "execution_count": 3,
   "outputs": [
    {
     "name": "stdout",
     "output_type": "stream",
     "text": [
      "加载数据完毕\n",
      "结束聚类\n",
      "标准化 U\n",
      "[0, 50, 0]\n",
      "[47, 0, 3]\n",
      "[13, 0, 37]\n",
      "分类正确的个数是: 134.0\n",
      "准确率：89.33333333333333%\n",
      "用时：0.1251072883605957\n"
     ]
    }
   ]
  },
  {
   "cell_type": "markdown",
   "source": [
    "**自己的数据集**"
   ],
   "metadata": {
    "collapsed": false,
    "pycharm": {
     "name": "#%% md\n"
    }
   }
  },
  {
   "cell_type": "code",
   "execution_count": 4,
   "outputs": [
    {
     "name": "stdout",
     "output_type": "stream",
     "text": [
      "已完成聚类\n",
      "[2 0 2 0 1 1 2 1 0 1 0 2 2 1 0 0 2 0 2 1 2 1 0 2 2 0 0 0 0 2 0 2 0 1 1 0 2\n",
      " 0 0 2 1 2 2 2 2 0 0 0 0 1 2 0 2 1 2 2 2 0 2 2 0 0 1 2 2 1 1 2 1 1 0 1 0 1\n",
      " 2 1 2 2 2 2 2 0 2 1 0 1 0 2 0 2 1 1 1 0 0 2 2 2 1 0 0 1 2 2 1 0 0 1 0 2 1\n",
      " 2 1 0 0 2 0 1 2 0 1 2 0 2 1 0 2 2 2 0 2 1 1 2 2 2 1 2 2 1 0 1 2 0 2 0 1 0\n",
      " 2 0]\n",
      "用时：0.1441810131072998\n"
     ]
    }
   ],
   "source": [
    "data = [[6.1, 2.8, 4.7, 1.2], [5.1, 3.4, 1.5, 0.2], [6.0, 3.4, 4.5, 1.6], [4.6, 3.1, 1.5, 0.2],\n",
    "        [6.7, 3.3, 5.7, 2.1], [7.2, 3.0, 5.8, 1.6], [6.7, 3.1, 4.4, 1.4], [6.4, 2.7, 5.3, 1.9],\n",
    "        [4.8, 3.0, 1.4, 0.3], [7.9, 3.8, 6.4, 2.0], [5.2, 3.5, 1.5, 0.2], [5.9, 3.0, 5.1, 1.8],\n",
    "        [5.7, 2.8, 4.1, 1.3], [6.8, 3.2, 5.9, 2.3], [5.4, 3.4, 1.5, 0.4], [5.4, 3.7, 1.5, 0.2],\n",
    "        [6.6, 3.0, 4.4, 1.4], [5.1, 3.5, 1.4, 0.2], [6.0, 2.2, 4.0, 1.0], [7.7, 2.8, 6.7, 2.0],\n",
    "        [6.3, 2.8, 5.1, 1.5], [7.4, 2.8, 6.1, 1.9], [5.5, 4.2, 1.4, 0.2], [5.7, 3.0, 4.2, 1.2],\n",
    "        [5.5, 2.6, 4.4, 1.2], [5.2, 3.4, 1.4, 0.2], [4.9, 3.1, 1.5, 0.1], [4.6, 3.6, 1.0, 0.2],\n",
    "        [4.6, 3.2, 1.4, 0.2], [5.8, 2.7, 3.9, 1.2], [5.0, 3.4, 1.5, 0.2], [6.1, 3.0, 4.6, 1.4],\n",
    "        [4.7, 3.2, 1.6, 0.2], [6.7, 3.3, 5.7, 2.5], [6.5, 3.0, 5.8, 2.2], [5.4, 3.4, 1.7, 0.2],\n",
    "        [5.8, 2.7, 5.1, 1.9], [5.4, 3.9, 1.3, 0.4], [5.3, 3.7, 1.5, 0.2], [6.1, 3.0, 4.9, 1.8],\n",
    "        [7.2, 3.2, 6.0, 1.8], [5.5, 2.3, 4.0, 1.3], [5.7, 2.8, 4.5, 1.3], [4.9, 2.4, 3.3, 1.0],\n",
    "        [5.4, 3.0, 4.5, 1.5], [5.0, 3.5, 1.6, 0.6], [5.2, 4.1, 1.5, 0.1], [5.8, 4.0, 1.2, 0.2],\n",
    "        [5.4, 3.9, 1.7, 0.4], [6.5, 3.2, 5.1, 2.0], [5.5, 2.4, 3.7, 1.0], [5.0, 3.5, 1.3, 0.3],\n",
    "        [6.3, 2.5, 5.0, 1.9], [6.9, 3.1, 4.9, 1.5], [6.2, 2.2, 4.5, 1.5], [6.3, 3.3, 4.7, 1.6],\n",
    "        [6.4, 3.2, 4.5, 1.5], [4.7, 3.2, 1.3, 0.2], [5.5, 2.4, 3.8, 1.1], [5.0, 2.0, 3.5, 1.0],\n",
    "        [4.4, 2.9, 1.4, 0.2], [4.8, 3.4, 1.9, 0.2], [6.3, 3.4, 5.6, 2.4], [5.5, 2.5, 4.0, 1.3],\n",
    "        [5.7, 2.5, 5.0, 2.0], [6.5, 3.0, 5.2, 2.0], [6.7, 3.0, 5.0, 1.7], [5.2, 2.7, 3.9, 1.4],\n",
    "        [6.9, 3.1, 5.1, 2.3], [7.2, 3.6, 6.1, 2.5], [4.8, 3.0, 1.4, 0.1], [6.3, 2.9, 5.6, 1.8],\n",
    "        [5.1, 3.5, 1.4, 0.3], [6.9, 3.1, 5.4, 2.1], [5.6, 3.0, 4.1, 1.3], [7.7, 2.6, 6.9, 2.3],\n",
    "        [6.4, 2.9, 4.3, 1.3], [5.8, 2.7, 4.1, 1.0], [6.1, 2.9, 4.7, 1.4], [5.7, 2.9, 4.2, 1.3],\n",
    "        [6.2, 2.8, 4.8, 1.8], [4.8, 3.4, 1.6, 0.2], [5.6, 2.9, 3.6, 1.3], [6.7, 2.5, 5.8, 1.8],\n",
    "        [5.0, 3.4, 1.6, 0.4], [6.3, 3.3, 6.0, 2.5], [5.1, 3.8, 1.9, 0.4], [6.6, 2.9, 4.6, 1.3],\n",
    "        [5.1, 3.3, 1.7, 0.5], [6.3, 2.5, 4.9, 1.5], [6.4, 3.1, 5.5, 1.8], [6.2, 3.4, 5.4, 2.3],\n",
    "        [6.7, 3.1, 5.6, 2.4], [4.6, 3.4, 1.4, 0.3], [5.5, 3.5, 1.3, 0.2], [5.6, 2.7, 4.2, 1.3],\n",
    "        [5.6, 2.8, 4.9, 2.0], [6.2, 2.9, 4.3, 1.3], [7.0, 3.2, 4.7, 1.4], [5.0, 3.2, 1.2, 0.2],\n",
    "        [4.3, 3.0, 1.1, 0.1], [7.7, 3.8, 6.7, 2.2], [5.6, 3.0, 4.5, 1.5], [5.8, 2.7, 5.1, 1.9],\n",
    "        [5.8, 2.8, 5.1, 2.4], [4.9, 3.1, 1.5, 0.1], [5.7, 3.8, 1.7, 0.3], [7.1, 3.0, 5.9, 2.1],\n",
    "        [5.1, 3.7, 1.5, 0.4], [6.3, 2.7, 4.9, 1.8], [6.7, 3.0, 5.2, 2.3], [5.1, 2.5, 3.0, 1.1],\n",
    "        [7.6, 3.0, 6.6, 2.1], [4.5, 2.3, 1.3, 0.3], [4.9, 3.0, 1.4, 0.2], [6.5, 2.8, 4.6, 1.5],\n",
    "        [5.7, 4.4, 1.5, 0.4], [6.8, 3.0, 5.5, 2.1], [4.9, 2.5, 4.5, 1.7], [5.1, 3.8, 1.5, 0.3],\n",
    "        [6.5, 3.0, 5.5, 1.8], [5.7, 2.6, 3.5, 1.0], [5.1, 3.8, 1.6, 0.2], [5.9, 3.0, 4.2, 1.5],\n",
    "        [6.4, 3.2, 5.3, 2.3], [4.4, 3.0, 1.3, 0.2], [6.1, 2.8, 4.0, 1.3], [6.3, 2.3, 4.4, 1.3],\n",
    "        [5.0, 2.3, 3.3, 1.0], [5.0, 3.6, 1.4, 0.2], [5.9, 3.2, 4.8, 1.8], [6.4, 2.8, 5.6, 2.2],\n",
    "        [6.1, 2.6, 5.6, 1.4], [5.6, 2.5, 3.9, 1.1], [6.0, 2.7, 5.1, 1.6], [6.0, 3.0, 4.8, 1.8],\n",
    "        [6.4, 2.8, 5.6, 2.1], [6.0, 2.9, 4.5, 1.5], [5.8, 2.6, 4.0, 1.2], [7.7, 3.0, 6.1, 2.3],\n",
    "        [5.0, 3.3, 1.4, 0.2], [6.9, 3.2, 5.7, 2.3], [6.8, 2.8, 4.8, 1.4], [4.8, 3.1, 1.6, 0.2],\n",
    "        [6.7, 3.1, 4.7, 1.5], [4.9, 3.1, 1.5, 0.1], [7.3, 2.9, 6.3, 1.8], [4.4, 3.2, 1.3, 0.2],\n",
    "        [6.0, 2.2, 5.0, 1.5], [5.0, 3.0, 1.6, 0.2]]\n",
    "start = time.time()\n",
    "\n",
    "# 调用模糊C均值函数\n",
    "res_U = c_means_fuzzy(data, 3, 2)\n",
    "np_U = np.array(res_U)\n",
    "print(np_U.argmax(axis=1))\n",
    "\n",
    "# 计算准确率\n",
    "print(\"用时：{0}\".format(time.time() - start))"
   ],
   "metadata": {
    "collapsed": false,
    "pycharm": {
     "name": "#%%\n"
    }
   }
  },
  {
   "cell_type": "markdown",
   "source": [
    "## 模糊理论\n",
    "模糊控制是自动化控制领域的一项经典方法。其原理则是模糊数学、模糊逻辑。1965，L. A. Zadeh发表模糊集合“Fuzzy Sets”的论文， 首次引入隶属度函数的概念，打破了经典数学“非0即 1”的局限性，用[0,1]之间的实数来描述中间状态。\n",
    "\n",
    "很多经典的集合（即：论域U内的某个元素是否属于集合A，可以用一个数值来表示。在经典集合中，要么0，要么1）不能描述很多事物的属性，需要用模糊性词语来判断。比如天气冷热程度、人的胖瘦程度等等。模糊数学和模糊逻辑把只取1或0二值（属于/不属于）的普通集合概念推广0~1区间内的多个取值，即隶属度。用“隶属度”来描述元素和集合之间的关系。\n",
    "\n",
    "<img src=\"../images/iShot2021-09-02 11.29.20.png\"/>\n",
    "\n",
    "如图所示，对于冷热程度，我们采取三个模糊子集：冷、暖、热。对于某一个温度，可能同时属于两个子集。要进一步具体判断，我们就需要提供一个描述“程度”的函数，即隶属度。\n",
    "\n",
    "例如，身高可以分为“高”、“中等”、“矮”三个子集。取论域U（即人的身高范围）为[1.0,3.0]，单位m。在U上定义三个隶属度函数来确定身高与三个模糊子集的关系：\n",
    "\n",
    "<img src=\"../images/iShot2021-09-02 11.29.45.png\"/>\n",
    "\n",
    "**模糊规则的设定**:\n",
    "\n",
    "1. 专家的经验和知识：藉由询问经验丰富的专家，在获得系统的知 识后，将知识改为IF....THEN ....的型式。\n",
    "2. 操作员的操作模式：记录熟练的操作员的操作模式，并将其整理为IF....THEN ....的型式。\n",
    "3. 自学习：设定的模糊规则可能存在偏差，模糊控制器能依设定的目标，增加或修改模糊控制规则"
   ],
   "metadata": {
    "collapsed": false,
    "pycharm": {
     "name": "#%% md\n"
    }
   }
  },
  {
   "cell_type": "markdown",
   "source": [
    "## 灰色预测\n",
    "灰色预测是用灰色模型GM(1,1)来进行定量分析的，通常分为以下几类：\n",
    "1. 灰色时间序列预测。用等时距观测到的反映预测对象特征的一系列数量（如产量、销量、人口数量、存款数量、利率等）构造灰色预测模型，预测未来某一时刻的特征量，或者达到某特征量的时间。\n",
    "2. 畸变预测（灾变预测）。通过模型预测异常值出现的时刻，预测异常值什么时候出现在特定时区内。\n",
    "3. 波形预测，或称为拓扑预测，它是通过灰色模型预测事物未来变动的轨迹。\n",
    "4. 系统预测，对系统行为特征指标建立一族相互关联的灰色预测理论模型，在预测系统整体变化的同时，预测系统各个环节的变化。\n",
    "\n",
    "上述灰色预测方法的共同特点是：\n",
    "1. 允许少数据预测；\n",
    "2. 允许对灰因果律事件进行预测，例如：\n",
    "    - 灰因白果律事件：在粮食生产预测中，影响粮食生产的因子很多，多到无法枚举，故为灰因，然而粮食产量却是具体的，故为白果。粮食预测即为灰因白果律事件预测。\n",
    "    - 白因灰果律事件：在开发项目前景预测时，开发项目的投入是具体的，为白因，而项目的效益暂时不很清楚，为灰果。项目前景预测即为灰因白果律事件预测。\n",
    "3. 具有可检验性，包括：建模可行性的级比检验（事前检验），建模精度检验（模型检验），预测的滚动检验（预测检验）。\n",
    "\n",
    "[参考](https://www.jianshu.com/p/a35ba96d852b)"
   ],
   "metadata": {
    "collapsed": false,
    "pycharm": {
     "name": "#%% md\n"
    }
   }
  },
  {
   "cell_type": "code",
   "execution_count": 5,
   "outputs": [
    {
     "name": "stdout",
     "output_type": "stream",
     "text": [
      "              票房\n",
      "0      33.270000\n",
      "1      43.410000\n",
      "2      62.060000\n",
      "3     101.720000\n",
      "4     131.150000\n",
      "5     170.730000\n",
      "6     217.690000\n",
      "7     296.390000\n",
      "8     440.690000\n",
      "9     457.120000\n",
      "10    559.110000\n",
      "11    671.137260\n",
      "12    767.241838\n",
      "13    916.470795\n",
      "14   1069.425960\n",
      "15   1248.267607\n",
      "16   1463.742026\n",
      "17   1703.568377\n",
      "18   1985.318549\n",
      "19   2309.710701\n",
      "20   2681.025525\n",
      "21   3110.165295\n",
      "22   3601.693843\n",
      "23   4165.460217\n",
      "24   4811.731411\n",
      "25   5550.566957\n",
      "26   6395.188903\n",
      "27   7359.305386\n",
      "28   8458.509103\n",
      "29   9710.663940\n",
      "30  11135.323835\n",
      "31  12754.669406\n",
      "32  14593.471262\n",
      "33  16679.331607\n",
      "34  19043.200612\n",
      "35  21719.556307\n",
      "36  24746.865329\n",
      "37  28168.021037\n",
      "38  32030.763030\n",
      "39  36388.233771\n",
      "40  41299.525105\n"
     ]
    },
    {
     "name": "stderr",
     "output_type": "stream",
     "text": [
      "/Users/Bureaux/miniconda3/envs/Torch-base/lib/python3.7/site-packages/matplotlib/backends/backend_agg.py:240: RuntimeWarning: Glyph 31080 missing from current font.\n",
      "  font.set_text(s, 0.0, flags=flags)\n",
      "/Users/Bureaux/miniconda3/envs/Torch-base/lib/python3.7/site-packages/matplotlib/backends/backend_agg.py:240: RuntimeWarning: Glyph 25151 missing from current font.\n",
      "  font.set_text(s, 0.0, flags=flags)\n",
      "/Users/Bureaux/miniconda3/envs/Torch-base/lib/python3.7/site-packages/matplotlib/backends/backend_agg.py:203: RuntimeWarning: Glyph 31080 missing from current font.\n",
      "  font.set_text(s, 0, flags=flags)\n",
      "/Users/Bureaux/miniconda3/envs/Torch-base/lib/python3.7/site-packages/matplotlib/backends/backend_agg.py:203: RuntimeWarning: Glyph 25151 missing from current font.\n",
      "  font.set_text(s, 0, flags=flags)\n"
     ]
    },
    {
     "data": {
      "text/plain": "<Figure size 2160x1440 with 1 Axes>",
      "image/png": "[encoded data removed]"
     },
     "metadata": {
      "needs_background": "light"
     },
     "output_type": "display_data"
    }
   ],
   "source": [
    "f = open(\"../data/电影票房.csv\", encoding=\"utf8\")\n",
    "df = pd.read_csv(f)\n",
    "df.tail()\n",
    "gf = GrayForecast(df, '票房')\n",
    "gf.forecast(30)\n",
    "print(gf.log())\n",
    "gf.plot()"
   ],
   "metadata": {
    "collapsed": false,
    "pycharm": {
     "name": "#%%\n"
    }
   }
  },
  {
   "cell_type": "code",
   "execution_count": 6,
   "outputs": [
    {
     "name": "stdout",
     "output_type": "stream",
     "text": [
      "0.0021\n",
      "[91.0, 93.5068, 95.2858, 97.0986, 98.9459, 100.8284, 102.7467, 104.7014, 106.6934, 108.7232, 110.7917, 112.8996, 115.0475, 117.2363, 119.4667, 121.7396, 124.0557]\n",
      "-------------------------\n",
      "         data\n",
      "0    91.00000\n",
      "1    93.00000\n",
      "2    95.00000\n",
      "3    97.00000\n",
      "4    99.00000\n",
      "5   101.00000\n",
      "6   103.00000\n",
      "7   105.00000\n",
      "8   107.00000\n",
      "9   109.00000\n",
      "10  111.00000\n",
      "11  113.00000\n",
      "12  115.00000\n",
      "13  117.00000\n",
      "14  119.00000\n",
      "15  121.08342\n",
      "16  123.16821\n"
     ]
    }
   ],
   "source": [
    "ls = list(range(91, 120, 2))\n",
    "gm = GM()\n",
    "gm.fit(ls)\n",
    "print(gm.confidence())\n",
    "print(gm.predict(m=2))\n",
    "print('-------------------------')\n",
    "c = {\"data\": ls}  #将列表a，b转换成字典\n",
    "data = pd.core.frame.DataFrame(c)  #将字典转换成为数据框\n",
    "gf = GrayForecast(data, 'data')\n",
    "gf.forecast(2)\n",
    "print(gf.log())"
   ],
   "metadata": {
    "collapsed": false,
    "pycharm": {
     "name": "#%%\n"
    }
   }
  }
 ],
 "metadata": {
  "kernelspec": {
   "name": "torch-base",
   "language": "python",
   "display_name": "Torch-base"
  },
  "language_info": {
   "codemirror_mode": {
    "name": "ipython",
    "version": 2
   },
   "file_extension": ".py",
   "mimetype": "text/x-python",
   "name": "python",
   "nbconvert_exporter": "python",
   "pygments_lexer": "ipython2",
   "version": "2.7.6"
  }
 },
 "nbformat": 4,
 "nbformat_minor": 0
}